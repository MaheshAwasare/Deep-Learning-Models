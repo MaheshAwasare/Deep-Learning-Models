{
    "nbformat_minor": 1, 
    "cells": [
        {
            "execution_count": 4, 
            "cell_type": "code", 
            "metadata": {}, 
            "outputs": [], 
            "source": "from keras.layers import Dense,Dropout\nfrom keras.datasets import mnist\nfrom keras.models import Sequential\nfrom keras.utils import to_categorical"
        }, 
        {
            "execution_count": 5, 
            "cell_type": "code", 
            "metadata": {}, 
            "outputs": [], 
            "source": "batch_size=128\nnum_classes=10\nepochs =20"
        }, 
        {
            "execution_count": 6, 
            "cell_type": "code", 
            "metadata": {}, 
            "outputs": [
                {
                    "output_type": "stream", 
                    "name": "stdout", 
                    "text": "Downloading data from https://s3.amazonaws.com/img-datasets/mnist.npz\n11493376/11490434 [==============================] - 0s 0us/step\n"
                }
            ], 
            "source": "(x_train,y_train),(x_test,y_test)=mnist.load_data()"
        }, 
        {
            "execution_count": 10, 
            "cell_type": "code", 
            "metadata": {}, 
            "outputs": [], 
            "source": "#Data Preprocessing\nx_train=x_train.reshape(60000,784)\nx_test=x_test.reshape(10000,784)\nx_train=x_train.astype('float32')\nx_test = x_test.astype('float32')\nx_train /=255\nx_test /=255\ny_train = to_categorical(y_train,num_classes)\ny_test = to_categorical(y_test,num_classes)\n"
        }, 
        {
            "execution_count": 14, 
            "cell_type": "code", 
            "metadata": {}, 
            "outputs": [
                {
                    "output_type": "stream", 
                    "name": "stdout", 
                    "text": "_________________________________________________________________\nLayer (type)                 Output Shape              Param #   \n=================================================================\ndense_1 (Dense)              (None, 512)               401920    \n_________________________________________________________________\ndropout_1 (Dropout)          (None, 512)               0         \n_________________________________________________________________\ndense_2 (Dense)              (None, 512)               262656    \n_________________________________________________________________\ndropout_2 (Dropout)          (None, 512)               0         \n_________________________________________________________________\ndense_3 (Dense)              (None, 10)                5130      \n=================================================================\nTotal params: 669,706\nTrainable params: 669,706\nNon-trainable params: 0\n_________________________________________________________________\n"
                }
            ], 
            "source": "#Define Model\nmodel = Sequential()\nmodel.add(Dense(512,activation='relu',input_shape=(784,)))\nmodel.add(Dropout(0.2))\nmodel.add(Dense(512,activation='relu'))\nmodel.add(Dropout(0.2))\nmodel.add(Dense(num_classes,activation='softmax'))\nmodel.summary()"
        }, 
        {
            "execution_count": 15, 
            "cell_type": "code", 
            "metadata": {}, 
            "outputs": [], 
            "source": "#Compile the model\nmodel.compile(loss='categorical_crossentropy',optimizer='sgd',metrics=['accuracy'])"
        }, 
        {
            "execution_count": 16, 
            "cell_type": "code", 
            "metadata": {}, 
            "outputs": [
                {
                    "output_type": "stream", 
                    "name": "stdout", 
                    "text": "Train on 60000 samples, validate on 10000 samples\nEpoch 1/20\n60000/60000 [==============================] - 41s 689us/step - loss: 1.1938 - acc: 0.6895 - val_loss: 0.5343 - val_acc: 0.8696\nEpoch 2/20\n60000/60000 [==============================] - 42s 702us/step - loss: 0.5267 - acc: 0.8512 - val_loss: 0.3731 - val_acc: 0.8998\nEpoch 3/20\n60000/60000 [==============================] - 42s 702us/step - loss: 0.4213 - acc: 0.8780 - val_loss: 0.3220 - val_acc: 0.9095\nEpoch 4/20\n60000/60000 [==============================] - 44s 733us/step - loss: 0.3744 - acc: 0.8907 - val_loss: 0.2925 - val_acc: 0.9179\nEpoch 5/20\n60000/60000 [==============================] - 43s 712us/step - loss: 0.3427 - acc: 0.9013 - val_loss: 0.2686 - val_acc: 0.9238\nEpoch 6/20\n60000/60000 [==============================] - 42s 707us/step - loss: 0.3173 - acc: 0.9076 - val_loss: 0.2517 - val_acc: 0.9281\nEpoch 7/20\n60000/60000 [==============================] - 41s 689us/step - loss: 0.2971 - acc: 0.9147 - val_loss: 0.2367 - val_acc: 0.9333\nEpoch 8/20\n60000/60000 [==============================] - 40s 666us/step - loss: 0.2811 - acc: 0.9183 - val_loss: 0.2244 - val_acc: 0.9355\nEpoch 9/20\n60000/60000 [==============================] - 42s 692us/step - loss: 0.2657 - acc: 0.9228 - val_loss: 0.2154 - val_acc: 0.9378\nEpoch 10/20\n60000/60000 [==============================] - 45s 753us/step - loss: 0.2527 - acc: 0.9272 - val_loss: 0.2044 - val_acc: 0.9406\nEpoch 11/20\n60000/60000 [==============================] - 44s 732us/step - loss: 0.2426 - acc: 0.9299 - val_loss: 0.1962 - val_acc: 0.9420\nEpoch 12/20\n60000/60000 [==============================] - 41s 687us/step - loss: 0.2298 - acc: 0.9328 - val_loss: 0.1873 - val_acc: 0.9447\nEpoch 13/20\n60000/60000 [==============================] - 46s 767us/step - loss: 0.2207 - acc: 0.9361 - val_loss: 0.1805 - val_acc: 0.9475\nEpoch 14/20\n60000/60000 [==============================] - 44s 738us/step - loss: 0.2123 - acc: 0.9386 - val_loss: 0.1740 - val_acc: 0.9484\nEpoch 15/20\n60000/60000 [==============================] - 41s 690us/step - loss: 0.2048 - acc: 0.9404 - val_loss: 0.1673 - val_acc: 0.9513\nEpoch 16/20\n60000/60000 [==============================] - 44s 738us/step - loss: 0.1984 - acc: 0.9427 - val_loss: 0.1627 - val_acc: 0.9529\nEpoch 17/20\n60000/60000 [==============================] - 41s 692us/step - loss: 0.1912 - acc: 0.9450 - val_loss: 0.1575 - val_acc: 0.9549\nEpoch 18/20\n60000/60000 [==============================] - 39s 652us/step - loss: 0.1866 - acc: 0.9458 - val_loss: 0.1518 - val_acc: 0.9561\nEpoch 19/20\n60000/60000 [==============================] - 36s 605us/step - loss: 0.1798 - acc: 0.9478 - val_loss: 0.1472 - val_acc: 0.9572\nEpoch 20/20\n60000/60000 [==============================] - 35s 583us/step - loss: 0.1753 - acc: 0.9484 - val_loss: 0.1439 - val_acc: 0.9580\n"
                }, 
                {
                    "execution_count": 16, 
                    "metadata": {}, 
                    "data": {
                        "text/plain": "<keras.callbacks.History at 0x7fdd9b330e80>"
                    }, 
                    "output_type": "execute_result"
                }
            ], 
            "source": "# Train the model\nmodel.fit(x_train,y_train,batch_size=batch_size,epochs=epochs,validation_data=(x_test,y_test))"
        }, 
        {
            "execution_count": 18, 
            "cell_type": "code", 
            "metadata": {}, 
            "outputs": [], 
            "source": "# Check the model score\n\nscore=model.evaluate(x_test,y_test, verbose=0)"
        }, 
        {
            "execution_count": 19, 
            "cell_type": "code", 
            "metadata": {}, 
            "outputs": [
                {
                    "execution_count": 19, 
                    "metadata": {}, 
                    "data": {
                        "text/plain": "[0.14385418247506024, 0.95799999999999996]"
                    }, 
                    "output_type": "execute_result"
                }
            ], 
            "source": "score"
        }, 
        {
            "execution_count": 20, 
            "cell_type": "code", 
            "metadata": {}, 
            "outputs": [
                {
                    "output_type": "stream", 
                    "name": "stdout", 
                    "text": "Test loss 0.143854182475\n"
                }
            ], 
            "source": "print('Test loss',score[0])"
        }, 
        {
            "execution_count": 22, 
            "cell_type": "code", 
            "metadata": {}, 
            "outputs": [
                {
                    "output_type": "stream", 
                    "name": "stdout", 
                    "text": "Test Accuracy 95.8\n"
                }
            ], 
            "source": "print('Test Accuracy',score[1]*100)"
        }, 
        {
            "execution_count": null, 
            "cell_type": "code", 
            "metadata": {}, 
            "outputs": [], 
            "source": ""
        }
    ], 
    "metadata": {
        "kernelspec": {
            "display_name": "Python 3.5", 
            "name": "python3", 
            "language": "python"
        }, 
        "language_info": {
            "mimetype": "text/x-python", 
            "nbconvert_exporter": "python", 
            "version": "3.5.5", 
            "name": "python", 
            "file_extension": ".py", 
            "pygments_lexer": "ipython3", 
            "codemirror_mode": {
                "version": 3, 
                "name": "ipython"
            }
        }
    }, 
    "nbformat": 4
}