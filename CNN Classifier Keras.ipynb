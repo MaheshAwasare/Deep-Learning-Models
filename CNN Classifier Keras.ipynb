{
    "nbformat_minor": 1, 
    "cells": [
        {
            "source": "import keras\nfrom keras.datasets import fashion_mnist\nfrom keras.models import Sequential\nfrom keras.layers import Dense,Dropout,Flatten,Conv2D,MaxPooling2D\nfrom keras import backend as K\nfrom keras.utils import to_categorical\nfrom keras.losses import categorical_crossentropy\nfrom keras.optimizers import Adadelta", 
            "cell_type": "code", 
            "metadata": {}, 
            "outputs": [
                {
                    "output_type": "stream", 
                    "name": "stderr", 
                    "text": "Using TensorFlow backend.\n"
                }
            ], 
            "execution_count": 1
        }, 
        {
            "source": "import os\nos.environ['TF_CPP_MIN_LOG_LEVEL']='2'", 
            "cell_type": "code", 
            "metadata": {}, 
            "outputs": [], 
            "execution_count": 2
        }, 
        {
            "source": "num_classes=10\nbatch_size=64\nepochs=20\nimg_rows,img_cols=28,28\n\n(x_train,y_train),(x_test,y_test) = fashion_mnist.load_data()", 
            "cell_type": "code", 
            "metadata": {}, 
            "outputs": [], 
            "execution_count": 3
        }, 
        {
            "source": "print(K.image_data_format())", 
            "cell_type": "code", 
            "metadata": {}, 
            "outputs": [
                {
                    "output_type": "stream", 
                    "name": "stdout", 
                    "text": "channels_last\n"
                }
            ], 
            "execution_count": 4
        }, 
        {
            "source": "#Let us reshape for both channels last and channels first\n\nif(K.image_data_format()=='channels_last'):\n    x_train=x_train.reshape(x_train.shape[0],img_rows,img_cols,1)\n    x_test=x_test.reshape(x_test.shape[0],img_rows,img_cols,1)\n    input_shape = (img_rows,img_cols,1)\nelse:\n    x_train=x_train.reshape(x_train.shape[0],1,img_rows,img_cols)\n    x_test=x_test.reshape(x_test.shape[0],1,img_rows,img_cols)\n    input_shape = (1,img_rows,img_cols)\n    ", 
            "cell_type": "code", 
            "metadata": {}, 
            "outputs": [], 
            "execution_count": 5
        }, 
        {
            "source": "x_train=x_train.astype('float32')\nx_train = x_train/255\n\n\nx_test=x_test.astype('float32')\nx_test = x_test/255\n\n#One hot encoding of labels\n\ny_train = to_categorical(y_train,num_classes)\ny_test = to_categorical(y_test,num_classes)", 
            "cell_type": "code", 
            "metadata": {}, 
            "outputs": [], 
            "execution_count": 6
        }, 
        {
            "source": "#Define Model\n\nmodel = Sequential()\nmodel.add(Conv2D(64,kernel_size=(2,2),activation='relu',input_shape=input_shape))\nmodel.add(MaxPooling2D(pool_size=(2,2)))\nmodel.add(Conv2D(64,kernel_size=(2,2),activation='relu'))\nmodel.add(MaxPooling2D(pool_size=(2,2)))\nmodel.add(Flatten())\nmodel.add(Dense(128,activation='relu'))\nmodel.add(Dropout(0.2))\nmodel.add(Dense(num_classes,activation='softmax'))", 
            "cell_type": "code", 
            "metadata": {}, 
            "outputs": [], 
            "execution_count": 7
        }, 
        {
            "source": "model.compile(loss=categorical_crossentropy,optimizer=Adadelta(),metrics=['accuracy'])", 
            "cell_type": "code", 
            "metadata": {}, 
            "outputs": [], 
            "execution_count": 8
        }, 
        {
            "source": "model.fit(x_train,y_train,batch_size=batch_size,epochs=epochs,verbose=1,validation_data=(x_test,y_test))", 
            "cell_type": "code", 
            "metadata": {}, 
            "outputs": [
                {
                    "output_type": "stream", 
                    "name": "stdout", 
                    "text": "Train on 60000 samples, validate on 10000 samples\nEpoch 1/20\n60000/60000 [==============================] - 313s 5ms/step - loss: 0.5075 - acc: 0.8150 - val_loss: 0.3542 - val_acc: 0.8730\nEpoch 2/20\n60000/60000 [==============================] - 310s 5ms/step - loss: 0.3350 - acc: 0.8778 - val_loss: 0.3665 - val_acc: 0.8654\nEpoch 3/20\n60000/60000 [==============================] - 311s 5ms/step - loss: 0.2933 - acc: 0.8937 - val_loss: 0.3004 - val_acc: 0.8899\nEpoch 4/20\n60000/60000 [==============================] - 304s 5ms/step - loss: 0.2644 - acc: 0.9028 - val_loss: 0.2923 - val_acc: 0.8922\nEpoch 5/20\n60000/60000 [==============================] - 311s 5ms/step - loss: 0.2436 - acc: 0.9102 - val_loss: 0.2625 - val_acc: 0.9048\nEpoch 6/20\n60000/60000 [==============================] - 305s 5ms/step - loss: 0.2252 - acc: 0.9158 - val_loss: 0.2517 - val_acc: 0.9101\nEpoch 7/20\n60000/60000 [==============================] - 306s 5ms/step - loss: 0.2098 - acc: 0.9230 - val_loss: 0.2597 - val_acc: 0.9047\nEpoch 8/20\n60000/60000 [==============================] - 307s 5ms/step - loss: 0.1942 - acc: 0.9287 - val_loss: 0.2687 - val_acc: 0.9036\nEpoch 9/20\n60000/60000 [==============================] - 306s 5ms/step - loss: 0.1835 - acc: 0.9322 - val_loss: 0.2518 - val_acc: 0.9116\nEpoch 10/20\n60000/60000 [==============================] - 310s 5ms/step - loss: 0.1722 - acc: 0.9366 - val_loss: 0.2566 - val_acc: 0.9099\nEpoch 11/20\n60000/60000 [==============================] - 313s 5ms/step - loss: 0.1607 - acc: 0.9409 - val_loss: 0.2414 - val_acc: 0.9188\nEpoch 12/20\n60000/60000 [==============================] - 315s 5ms/step - loss: 0.1532 - acc: 0.9441 - val_loss: 0.2418 - val_acc: 0.9169\nEpoch 13/20\n60000/60000 [==============================] - 306s 5ms/step - loss: 0.1417 - acc: 0.9480 - val_loss: 0.2532 - val_acc: 0.9150\nEpoch 14/20\n60000/60000 [==============================] - 300s 5ms/step - loss: 0.1337 - acc: 0.9505 - val_loss: 0.2544 - val_acc: 0.9136\nEpoch 15/20\n60000/60000 [==============================] - 307s 5ms/step - loss: 0.1256 - acc: 0.9544 - val_loss: 0.2862 - val_acc: 0.9073\nEpoch 16/20\n60000/60000 [==============================] - 301s 5ms/step - loss: 0.1188 - acc: 0.9563 - val_loss: 0.2541 - val_acc: 0.9219\nEpoch 17/20\n60000/60000 [==============================] - 307s 5ms/step - loss: 0.1116 - acc: 0.9588 - val_loss: 0.2624 - val_acc: 0.9197\nEpoch 18/20\n60000/60000 [==============================] - 304s 5ms/step - loss: 0.1033 - acc: 0.9622 - val_loss: 0.2692 - val_acc: 0.9200\nEpoch 19/20\n60000/60000 [==============================] - 302s 5ms/step - loss: 0.0992 - acc: 0.9637 - val_loss: 0.2985 - val_acc: 0.9181\nEpoch 20/20\n60000/60000 [==============================] - 309s 5ms/step - loss: 0.0930 - acc: 0.9663 - val_loss: 0.2854 - val_acc: 0.9167\n"
                }, 
                {
                    "output_type": "execute_result", 
                    "data": {
                        "text/plain": "<keras.callbacks.History at 0x7f8070662a90>"
                    }, 
                    "execution_count": 9, 
                    "metadata": {}
                }
            ], 
            "execution_count": 9
        }, 
        {
            "source": "", 
            "cell_type": "code", 
            "metadata": {}, 
            "outputs": [], 
            "execution_count": null
        }
    ], 
    "metadata": {
        "kernelspec": {
            "display_name": "Python 3.5", 
            "name": "python3", 
            "language": "python"
        }, 
        "language_info": {
            "mimetype": "text/x-python", 
            "nbconvert_exporter": "python", 
            "version": "3.5.5", 
            "name": "python", 
            "pygments_lexer": "ipython3", 
            "file_extension": ".py", 
            "codemirror_mode": {
                "version": 3, 
                "name": "ipython"
            }
        }
    }, 
    "nbformat": 4
}