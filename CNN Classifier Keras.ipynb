{
    "nbformat_minor": 1, 
    "cells": [
        {
            "source": "import keras\nfrom keras.datasets import fashion_mnist\nfrom keras.models import Sequential\nfrom keras.layers import Dense,Dropout,Flatten,Conv2D,MaxPooling2D\nfrom keras import backend as K\nfrom keras.utils import to_categorical\nfrom keras.losses import categorical_crossentropy\nfrom keras.optimizers import Adadelta", 
            "cell_type": "code", 
            "metadata": {}, 
            "outputs": [
                {
                    "output_type": "stream", 
                    "name": "stderr", 
                    "text": "Using TensorFlow backend.\n"
                }
            ], 
            "execution_count": 1
        }, 
        {
            "source": "import os\nos.environ['TF_CPP_MIN_LOG_LEVEL']='2'", 
            "cell_type": "code", 
            "metadata": {}, 
            "outputs": [], 
            "execution_count": 2
        }, 
        {
            "source": "num_classes=10\nbatch_size=64\nepochs=10\nimg_rows,img_cols=28,28\n\n(x_train,y_train),(x_test,y_test) = fashion_mnist.load_data()", 
            "cell_type": "code", 
            "metadata": {}, 
            "outputs": [], 
            "execution_count": 10
        }, 
        {
            "source": "print(K.image_data_format())", 
            "cell_type": "code", 
            "metadata": {}, 
            "outputs": [
                {
                    "output_type": "stream", 
                    "name": "stdout", 
                    "text": "channels_last\n"
                }
            ], 
            "execution_count": 11
        }, 
        {
            "source": "#Let us reshape for both channels last and channels first\n\nif(K.image_data_format()=='channels_last'):\n    x_train=x_train.reshape(x_train.shape[0],img_rows,img_cols,1)\n    x_test=x_test.reshape(x_test.shape[0],img_rows,img_cols,1)\n    input_shape = (img_rows,img_cols,1)\nelse:\n    x_train=x_train.reshape(x_train.shape[0],1,img_rows,img_cols)\n    x_test=x_test.reshape(x_test.shape[0],1,img_rows,img_cols)\n    input_shape = (1,img_rows,img_cols)\n    ", 
            "cell_type": "code", 
            "metadata": {}, 
            "outputs": [], 
            "execution_count": 12
        }, 
        {
            "source": "x_train=x_train.astype('float32')\nx_train = x_train/255\n\n\nx_test=x_test.astype('float32')\nx_test = x_test/255\n\n#One hot encoding of labels\n\ny_train = to_categorical(y_train,num_classes)\ny_test = to_categorical(y_test,num_classes)", 
            "cell_type": "code", 
            "metadata": {}, 
            "outputs": [], 
            "execution_count": 13
        }, 
        {
            "source": "#Define Model\n\nmodel = Sequential()\nmodel.add(Conv2D(32,kernel_size=(2,2),activation='relu',input_shape=input_shape))\nmodel.add(MaxPooling2D(pool_size=(2,2)))\nmodel.add(Conv2D(32,kernel_size=(2,2),activation='relu'))\nmodel.add(MaxPooling2D(pool_size=(2,2)))\nmodel.add(Flatten())\nmodel.add(Dense(128,activation='relu'))\nmodel.add(Dropout(0.5))\nmodel.add(Dense(num_classes,activation='softmax'))", 
            "cell_type": "code", 
            "metadata": {}, 
            "outputs": [], 
            "execution_count": 14
        }, 
        {
            "source": "model.compile(loss=categorical_crossentropy,optimizer=Adadelta(),metrics=['accuracy'])", 
            "cell_type": "code", 
            "metadata": {}, 
            "outputs": [], 
            "execution_count": 15
        }, 
        {
            "source": "model.fit(x_train,y_train,batch_size=batch_size,epochs=epochs,verbose=1,validation_data=(x_test,y_test))", 
            "cell_type": "code", 
            "metadata": {}, 
            "outputs": [
                {
                    "output_type": "stream", 
                    "name": "stdout", 
                    "text": "Train on 60000 samples, validate on 10000 samples\nEpoch 1/10\n60000/60000 [==============================] - 141s 2ms/step - loss: 0.5864 - acc: 0.7894 - val_loss: 0.3919 - val_acc: 0.8562\nEpoch 2/10\n60000/60000 [==============================] - 142s 2ms/step - loss: 0.3849 - acc: 0.8632 - val_loss: 0.3513 - val_acc: 0.8711\nEpoch 3/10\n60000/60000 [==============================] - 142s 2ms/step - loss: 0.3405 - acc: 0.8778 - val_loss: 0.3220 - val_acc: 0.8830\nEpoch 4/10\n60000/60000 [==============================] - 139s 2ms/step - loss: 0.3147 - acc: 0.8872 - val_loss: 0.3040 - val_acc: 0.8860\nEpoch 5/10\n60000/60000 [==============================] - 144s 2ms/step - loss: 0.2957 - acc: 0.8939 - val_loss: 0.2923 - val_acc: 0.8942\nEpoch 6/10\n60000/60000 [==============================] - 148s 2ms/step - loss: 0.2811 - acc: 0.8985 - val_loss: 0.2875 - val_acc: 0.8968\nEpoch 7/10\n60000/60000 [==============================] - 145s 2ms/step - loss: 0.2681 - acc: 0.9041 - val_loss: 0.3022 - val_acc: 0.8914\nEpoch 8/10\n60000/60000 [==============================] - 142s 2ms/step - loss: 0.2566 - acc: 0.9068 - val_loss: 0.3017 - val_acc: 0.8849\nEpoch 9/10\n60000/60000 [==============================] - 140s 2ms/step - loss: 0.2478 - acc: 0.9109 - val_loss: 0.2733 - val_acc: 0.9014\nEpoch 10/10\n60000/60000 [==============================] - 140s 2ms/step - loss: 0.2412 - acc: 0.9133 - val_loss: 0.2554 - val_acc: 0.9099\n"
                }, 
                {
                    "output_type": "execute_result", 
                    "data": {
                        "text/plain": "<keras.callbacks.History at 0x7f98dc86f2e8>"
                    }, 
                    "execution_count": 16, 
                    "metadata": {}
                }
            ], 
            "execution_count": 16
        }, 
        {
            "source": "", 
            "cell_type": "code", 
            "metadata": {}, 
            "outputs": [], 
            "execution_count": null
        }
    ], 
    "metadata": {
        "kernelspec": {
            "display_name": "Python 3.5", 
            "name": "python3", 
            "language": "python"
        }, 
        "language_info": {
            "mimetype": "text/x-python", 
            "nbconvert_exporter": "python", 
            "version": "3.5.5", 
            "name": "python", 
            "pygments_lexer": "ipython3", 
            "file_extension": ".py", 
            "codemirror_mode": {
                "version": 3, 
                "name": "ipython"
            }
        }
    }, 
    "nbformat": 4
}