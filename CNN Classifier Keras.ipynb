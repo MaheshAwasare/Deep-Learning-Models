{
    "nbformat_minor": 1, 
    "cells": [
        {
            "source": "import keras\nfrom keras.datasets import fashion_mnist\nfrom keras.models import Sequential\nfrom keras.layers import Dense,Dropout,Flatten,Conv2D,MaxPooling2D\nfrom keras import backend as K\nfrom keras.utils import to_categorical\nfrom keras.losses import categorical_crossentropy\nfrom keras.optimizers import Adadelta", 
            "cell_type": "code", 
            "metadata": {}, 
            "outputs": [], 
            "execution_count": 25
        }, 
        {
            "source": "import os\nos.environ['TF_CPP_MIN_LOG_LEVEL']='2'", 
            "cell_type": "code", 
            "metadata": {}, 
            "outputs": [], 
            "execution_count": 18
        }, 
        {
            "source": "num_classes=10\nbatch_size=128\nepochs=24\nimg_rows,img_cols=28,28\n\n(x_train,y_train),(x_test,y_test) = fashion_mnist.load_data()", 
            "cell_type": "code", 
            "metadata": {}, 
            "outputs": [], 
            "execution_count": 19
        }, 
        {
            "source": "print(K.image_data_format())", 
            "cell_type": "code", 
            "metadata": {}, 
            "outputs": [
                {
                    "output_type": "stream", 
                    "name": "stdout", 
                    "text": "channels_last\n"
                }
            ], 
            "execution_count": 20
        }, 
        {
            "source": "#Let us reshape for both channels last and channels first\n\nif(K.image_data_format()=='channels_last'):\n    x_train=x_train.reshape(x_train.shape[0],img_rows,img_cols,1)\n    x_test=x_test.reshape(x_test.shape[0],img_rows,img_cols,1)\n    input_shape = (img_rows,img_cols,1)\nelse:\n    x_train=x_train.reshape(x_train.shape[0],1,img_rows,img_cols)\n    x_test=x_test.reshape(x_test.shape[0],1,img_rows,img_cols)\n    input_shape = (1,img_rows,img_cols)\n    ", 
            "cell_type": "code", 
            "metadata": {}, 
            "outputs": [], 
            "execution_count": 22
        }, 
        {
            "source": "x_train=x_train.astype('float32')\nx_train = x_train/255\n\n\nx_test=x_test.astype('float32')\nx_test = x_test/255\n\n#One hot encoding of labels\n\ny_train = to_categorical(y_train,num_classes)\ny_test = to_categorical(y_test,num_classes)", 
            "cell_type": "code", 
            "metadata": {}, 
            "outputs": [], 
            "execution_count": 23
        }, 
        {
            "source": "#Define Model\n\nmodel = Sequential()\nmodel.add(Conv2D(32,kernel_size=(3,3),activation='relu',input_shape=input_shape))\nmodel.add(MaxPooling2D(pool_size=(2,2)))\nmodel.add(Conv2D(32,kernel_size=(3,3),activation='relu'))\nmodel.add(MaxPooling2D(pool_size=(2,2)))\nmodel.add(Flatten())\nmodel.add(Dense(128,activation='relu'))\nmodel.add(Dropout(0.5))\nmodel.add(Dense(num_classes,activation='softmax'))", 
            "cell_type": "code", 
            "metadata": {}, 
            "outputs": [], 
            "execution_count": 24
        }, 
        {
            "source": "model.compile(loss=categorical_crossentropy,optimizer=Adadelta(),metrics=['accuracy'])", 
            "cell_type": "code", 
            "metadata": {}, 
            "outputs": [], 
            "execution_count": 27
        }, 
        {
            "source": "model.fit(x_train,y_train,batch_size=batch_size,epochs=epochs,verbose=1,validation_data=(x_test,y_test))", 
            "cell_type": "code", 
            "metadata": {}, 
            "outputs": [
                {
                    "output_type": "stream", 
                    "name": "stdout", 
                    "text": "Train on 60000 samples, validate on 10000 samples\nEpoch 1/24\n17280/60000 [=======>......................] - ETA: 1:54 - loss: 0.9943 - acc: 0.6411"
                }
            ], 
            "execution_count": null
        }, 
        {
            "source": "", 
            "cell_type": "code", 
            "metadata": {}, 
            "outputs": [], 
            "execution_count": null
        }
    ], 
    "metadata": {
        "kernelspec": {
            "display_name": "Python 3.5", 
            "name": "python3", 
            "language": "python"
        }, 
        "language_info": {
            "mimetype": "text/x-python", 
            "nbconvert_exporter": "python", 
            "version": "3.5.5", 
            "name": "python", 
            "file_extension": ".py", 
            "pygments_lexer": "ipython3", 
            "codemirror_mode": {
                "version": 3, 
                "name": "ipython"
            }
        }
    }, 
    "nbformat": 4
}