{
 "cells": [
  {
   "cell_type": "code",
   "execution_count": 23,
   "metadata": {},
   "outputs": [],
   "source": [
    "import keras\n",
    "from tensorflow.keras.models import Sequential\n",
    "import tensorflow as tf\n",
    "from tensorflow.keras.layers import Dense, Activation\n",
    "import numpy as np\n",
    "import matplotlib.pyplot as plt "
   ]
  },
  {
   "cell_type": "code",
   "execution_count": 24,
   "metadata": {},
   "outputs": [],
   "source": [
    "import numpy as np\n",
    "np.random.seed(123)"
   ]
  },
  {
   "cell_type": "code",
   "execution_count": 25,
   "metadata": {},
   "outputs": [
    {
     "name": "stdout",
     "output_type": "stream",
     "text": [
      "Linear regression model is initialized with weights w: 0.25, b: 0.00\n"
     ]
    }
   ],
   "source": [
    "x = data = np.linspace(1,2,200)\n",
    "y = x*4 + np.random.randn(*x.shape) * 0.3\n",
    "\n",
    "\n",
    "model = Sequential()\n",
    "model.add(Dense(1, input_dim=1, activation='linear'))\n",
    "\n",
    "model.compile(optimizer='sgd', loss='mse', metrics=['mse'])\n",
    "\n",
    "weights = model.layers[0].get_weights()\n",
    "w_init = weights[0][0][0]\n",
    "b_init = weights[1][0]\n",
    "print('Linear regression model is initialized with weights w: %.2f, b: %.2f' % (w_init, b_init)) "
   ]
  },
  {
   "cell_type": "code",
   "execution_count": 7,
   "metadata": {},
   "outputs": [
    {
     "name": "stdout",
     "output_type": "stream",
     "text": [
      "Downloading data from https://s3.amazonaws.com/img-datasets/mnist.npz\n",
      "11493376/11490434 [==============================] - 21s 2us/step\n"
     ]
    }
   ],
   "source": [
    "from keras.datasets import mnist\n",
    " \n",
    "# Load pre-shuffled MNIST data into train and test sets\n",
    "#(X_train, y_train), (X_test, y_test) = mnist.load_data()"
   ]
  },
  {
   "cell_type": "code",
   "execution_count": 26,
   "metadata": {},
   "outputs": [
    {
     "name": "stdout",
     "output_type": "stream",
     "text": [
      "Train on 200 samples\n",
      "Epoch 1/30\n",
      "200/200 [==============================] - 1s 3ms/sample - loss: 1.0970 - mse: 1.0970\n",
      "Epoch 2/30\n",
      "200/200 [==============================] - 0s 808us/sample - loss: 0.1620 - mse: 0.1620\n",
      "Epoch 3/30\n",
      "200/200 [==============================] - 0s 826us/sample - loss: 0.1577 - mse: 0.1577\n",
      "Epoch 4/30\n",
      "200/200 [==============================] - 0s 824us/sample - loss: 0.1537 - mse: 0.1537\n",
      "Epoch 5/30\n",
      "200/200 [==============================] - 0s 848us/sample - loss: 0.1501 - mse: 0.1501\n",
      "Epoch 6/30\n",
      "200/200 [==============================] - 0s 934us/sample - loss: 0.1467 - mse: 0.1467\n",
      "Epoch 7/30\n",
      "200/200 [==============================] - 0s 1ms/sample - loss: 0.1436 - mse: 0.1436\n",
      "Epoch 8/30\n",
      "200/200 [==============================] - 0s 949us/sample - loss: 0.1407 - mse: 0.1407\n",
      "Epoch 9/30\n",
      "200/200 [==============================] - 0s 961us/sample - loss: 0.1380 - mse: 0.1380\n",
      "Epoch 10/30\n",
      "200/200 [==============================] - 0s 1ms/sample - loss: 0.1356 - mse: 0.1356\n",
      "Epoch 11/30\n",
      "200/200 [==============================] - 0s 1ms/sample - loss: 0.1333 - mse: 0.1333\n",
      "Epoch 12/30\n",
      "200/200 [==============================] - 0s 1ms/sample - loss: 0.1312 - mse: 0.1312\n",
      "Epoch 13/30\n",
      "200/200 [==============================] - 0s 1ms/sample - loss: 0.1293 - mse: 0.1293\n",
      "Epoch 14/30\n",
      "200/200 [==============================] - 0s 886us/sample - loss: 0.1275 - mse: 0.1275\n",
      "Epoch 15/30\n",
      "200/200 [==============================] - 0s 866us/sample - loss: 0.1258 - mse: 0.1258\n",
      "Epoch 16/30\n",
      "200/200 [==============================] - 0s 871us/sample - loss: 0.1243 - mse: 0.1243\n",
      "Epoch 17/30\n",
      "200/200 [==============================] - 0s 876us/sample - loss: 0.1229 - mse: 0.1229\n",
      "Epoch 18/30\n",
      "200/200 [==============================] - 0s 821us/sample - loss: 0.1215 - mse: 0.1215\n",
      "Epoch 19/30\n",
      "200/200 [==============================] - 0s 852us/sample - loss: 0.1203 - mse: 0.1203\n",
      "Epoch 20/30\n",
      "200/200 [==============================] - 0s 854us/sample - loss: 0.1192 - mse: 0.1192\n",
      "Epoch 21/30\n",
      "200/200 [==============================] - 0s 856us/sample - loss: 0.1182 - mse: 0.1182\n",
      "Epoch 22/30\n",
      "200/200 [==============================] - 0s 832us/sample - loss: 0.1172 - mse: 0.1172\n",
      "Epoch 23/30\n",
      "200/200 [==============================] - 0s 836us/sample - loss: 0.1163 - mse: 0.1163\n",
      "Epoch 24/30\n",
      "200/200 [==============================] - 0s 863us/sample - loss: 0.1155 - mse: 0.1155\n",
      "Epoch 25/30\n",
      "200/200 [==============================] - 0s 848us/sample - loss: 0.1147 - mse: 0.1147\n",
      "Epoch 26/30\n",
      "200/200 [==============================] - 0s 851us/sample - loss: 0.1140 - mse: 0.1140\n",
      "Epoch 27/30\n",
      "200/200 [==============================] - 0s 973us/sample - loss: 0.1134 - mse: 0.1134\n",
      "Epoch 28/30\n",
      "200/200 [==============================] - 0s 1ms/sample - loss: 0.1127 - mse: 0.1127\n",
      "Epoch 29/30\n",
      "200/200 [==============================] - 0s 918us/sample - loss: 0.1122 - mse: 0.1122\n",
      "Epoch 30/30\n",
      "200/200 [==============================] - 0s 901us/sample - loss: 0.1116 - mse: 0.1116\n",
      "Linear regression model is trained to have weight w: 3.52, b: 0.84\n"
     ]
    },
    {
     "data": {
      "image/png": "[encoded data removed]",
      "text/plain": [
       "<Figure size 432x288 with 1 Axes>"
      ]
     },
     "metadata": {
      "needs_background": "light"
     },
     "output_type": "display_data"
    }
   ],
   "source": [
    "model.fit(x,y, batch_size=1, epochs=30, shuffle=False)\n",
    "\n",
    "weights = model.layers[0].get_weights()\n",
    "w_final = weights[0][0][0]\n",
    "b_final = weights[1][0]\n",
    "print('Linear regression model is trained to have weight w: %.2f, b: %.2f' % (w_final, b_final))\n",
    "\n",
    "predict = model.predict(data)\n",
    "\n",
    "plt.plot(data, predict, 'b', data , y, 'k.')\n",
    "plt.show()"
   ]
  },
  {
   "cell_type": "code",
   "execution_count": null,
   "metadata": {},
   "outputs": [],
   "source": []
  }
 ],
 "metadata": {
  "kernelspec": {
   "display_name": "Python 3",
   "language": "python",
   "name": "python3"
  },
  "language_info": {
   "codemirror_mode": {
    "name": "ipython",
    "version": 3
   },
   "file_extension": ".py",
   "mimetype": "text/x-python",
   "name": "python",
   "nbconvert_exporter": "python",
   "pygments_lexer": "ipython3",
   "version": "3.7.4"
  }
 },
 "nbformat": 4,
 "nbformat_minor": 2
}
