{
    "nbformat_minor": 1, 
    "cells": [
        {
            "source": "from keras.preprocessing import sequence\nfrom keras.models import Sequential\nfrom keras.layers import Dense,Embedding,LSTM\nfrom keras.datasets import imdb", 
            "cell_type": "code", 
            "metadata": {}, 
            "outputs": [
                {
                    "output_type": "stream", 
                    "name": "stderr", 
                    "text": "Using TensorFlow backend.\n"
                }
            ], 
            "execution_count": 1
        }, 
        {
            "source": "max_features=20000\nmaxlen=80", 
            "cell_type": "code", 
            "metadata": {}, 
            "outputs": [], 
            "execution_count": 7
        }, 
        {
            "source": "#Load data\n(x_train,y_train),(x_test,y_test) = imdb.load_data(num_words=max_features)", 
            "cell_type": "code", 
            "metadata": {}, 
            "outputs": [], 
            "execution_count": 8
        }, 
        {
            "source": "#Data Preprocessing\nx_train=sequence.pad_sequences(x_train,maxlen=maxlen)\nx_test=sequence.pad_sequences(x_test,maxlen=maxlen)", 
            "cell_type": "code", 
            "metadata": {}, 
            "outputs": [], 
            "execution_count": 10
        }, 
        {
            "source": "#Define model\nmodel=Sequential()\nmodel.add(Embedding(max_features,128))\nmodel.add(LSTM(128,dropout=0.2,recurrent_dropout=0.2))\nmodel.add(Dense(1,activation='sigmoid'))\nmodel.summary()", 
            "cell_type": "code", 
            "metadata": {}, 
            "outputs": [
                {
                    "output_type": "stream", 
                    "name": "stdout", 
                    "text": "_________________________________________________________________\nLayer (type)                 Output Shape              Param #   \n=================================================================\nembedding_2 (Embedding)      (None, None, 128)         2560000   \n_________________________________________________________________\nlstm_2 (LSTM)                (None, 128)               131584    \n_________________________________________________________________\ndense_2 (Dense)              (None, 1)                 129       \n=================================================================\nTotal params: 2,691,713\nTrainable params: 2,691,713\nNon-trainable params: 0\n_________________________________________________________________\n"
                }
            ], 
            "execution_count": 11
        }, 
        {
            "source": "#Compile model\nmodel.compile(loss='binary_crossentropy',optimizer='sgd',metrics=['accuracy'])", 
            "cell_type": "code", 
            "metadata": {}, 
            "outputs": [], 
            "execution_count": 12
        }, 
        {
            "source": "#Train model with 20 epochs in 40 batches\nmodel.fit(x_train,y_train,batch_size=40,epochs=20,validation_data=(x_test,y_test))", 
            "cell_type": "code", 
            "metadata": {}, 
            "outputs": [
                {
                    "output_type": "stream", 
                    "name": "stdout", 
                    "text": "Train on 25000 samples, validate on 25000 samples\nEpoch 1/20\n 4280/25000 [====>.........................] - ETA: 6:48 - loss: 0.6931 - acc: 0.5012"
                }
            ], 
            "execution_count": null
        }, 
        {
            "source": "", 
            "cell_type": "code", 
            "metadata": {}, 
            "outputs": [], 
            "execution_count": null
        }
    ], 
    "metadata": {
        "kernelspec": {
            "display_name": "Python 3.5", 
            "name": "python3", 
            "language": "python"
        }, 
        "language_info": {
            "mimetype": "text/x-python", 
            "nbconvert_exporter": "python", 
            "version": "3.5.5", 
            "name": "python", 
            "file_extension": ".py", 
            "pygments_lexer": "ipython3", 
            "codemirror_mode": {
                "version": 3, 
                "name": "ipython"
            }
        }
    }, 
    "nbformat": 4
}