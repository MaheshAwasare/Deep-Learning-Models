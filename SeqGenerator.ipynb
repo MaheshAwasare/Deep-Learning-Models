{
    "nbformat_minor": 1, 
    "cells": [
        {
            "execution_count": 1, 
            "cell_type": "code", 
            "metadata": {}, 
            "outputs": [
                {
                    "output_type": "stream", 
                    "name": "stderr", 
                    "text": "Using TensorFlow backend.\n"
                }
            ], 
            "source": "\n\nfrom keras.models import Sequential\nfrom keras.layers import Dense\nfrom keras.layers import LSTM\nfrom numpy import array\nfrom keras.models import load_model\n\n\n\n\n\n"
        }, 
        {
            "execution_count": 7, 
            "cell_type": "code", 
            "metadata": {}, 
            "outputs": [], 
            "source": "# return training data\ndef get_data():\n    seq = [[0.0, 0.2], [0.2, 0.4], [0.4, 0.6], [0.6, 0.8], [0.8, 1.0]]\n    seq = array(seq)\n    X, y = seq[:, 0], seq[:, 1]\n    X = X.reshape((len(X), 1, 1))\n    return X, y"
        }, 
        {
            "execution_count": 8, 
            "cell_type": "code", 
            "metadata": {}, 
            "outputs": [
                {
                    "execution_count": 8, 
                    "metadata": {}, 
                    "data": {
                        "text/plain": "array([[[0. ]],\n\n       [[0.2]],\n\n       [[0.4]],\n\n       [[0.6]],\n\n       [[0.8]]])"
                    }, 
                    "output_type": "execute_result"
                }
            ], 
            "source": "X,y = get_train()\nX"
        }, 
        {
            "execution_count": 9, 
            "cell_type": "code", 
            "metadata": {}, 
            "outputs": [], 
            "source": "\n\nmodel = Sequential()\nmodel.add(LSTM(10, input_shape=(1,1)))\nmodel.add(Dense(1, activation='linear'))\n\nmodel.compile(loss='mse', optimizer='adam')\n\nX,y = get_train()\nmodel.fit(X, y, epochs=300, shuffle=False, verbose=0)\n\nmodel.save('lstm_model.h5')"
        }, 
        {
            "execution_count": 10, 
            "cell_type": "code", 
            "metadata": {}, 
            "outputs": [
                {
                    "output_type": "stream", 
                    "name": "stdout", 
                    "text": "[[0.40214598]\n [0.5097113 ]\n [0.6218004 ]\n [0.737101  ]\n [0.8543788 ]]\n"
                }
            ], 
            "source": "\nmodel = load_model('lstm_model.h5')\n\noutput = model.predict(X, verbose=0)\nprint(output)"
        }, 
        {
            "execution_count": null, 
            "cell_type": "code", 
            "metadata": {}, 
            "outputs": [], 
            "source": ""
        }
    ], 
    "metadata": {
        "kernelspec": {
            "display_name": "Python 3.6", 
            "name": "python3", 
            "language": "python"
        }, 
        "language_info": {
            "mimetype": "text/x-python", 
            "nbconvert_exporter": "python", 
            "version": "3.6.8", 
            "name": "python", 
            "file_extension": ".py", 
            "pygments_lexer": "ipython3", 
            "codemirror_mode": {
                "version": 3, 
                "name": "ipython"
            }
        }
    }, 
    "nbformat": 4
}