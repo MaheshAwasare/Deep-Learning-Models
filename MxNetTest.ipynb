{
    "nbformat_minor": 1, 
    "cells": [
        {
            "source": "!pip install -U mxnet", 
            "cell_type": "code", 
            "metadata": {}, 
            "outputs": [
                {
                    "output_type": "stream", 
                    "name": "stdout", 
                    "text": "Collecting mxnet\n  Downloading https://files.pythonhosted.org/packages/f2/6d/7932788aea1293015548631495a1b44e588127fedcf4221a5dcdfa411e7b/mxnet-1.4.0.post0-py2.py3-none-manylinux1_x86_64.whl (28.4MB)\n\u001b[K    100% |\u2588\u2588\u2588\u2588\u2588\u2588\u2588\u2588\u2588\u2588\u2588\u2588\u2588\u2588\u2588\u2588\u2588\u2588\u2588\u2588\u2588\u2588\u2588\u2588\u2588\u2588\u2588\u2588\u2588\u2588\u2588\u2588| 28.4MB 33kB/s  eta 0:00:01\n\u001b[?25hCollecting requests>=2.20.0 (from mxnet)\n  Downloading https://files.pythonhosted.org/packages/7d/e3/20f3d364d6c8e5d2353c72a67778eb189176f08e873c9900e10c0287b84b/requests-2.21.0-py2.py3-none-any.whl (57kB)\n\u001b[K    100% |\u2588\u2588\u2588\u2588\u2588\u2588\u2588\u2588\u2588\u2588\u2588\u2588\u2588\u2588\u2588\u2588\u2588\u2588\u2588\u2588\u2588\u2588\u2588\u2588\u2588\u2588\u2588\u2588\u2588\u2588\u2588\u2588| 61kB 9.1MB/s eta 0:00:01\n\u001b[?25hCollecting graphviz<0.9.0,>=0.8.1 (from mxnet)\n  Downloading https://files.pythonhosted.org/packages/53/39/4ab213673844e0c004bed8a0781a0721a3f6bb23eb8854ee75c236428892/graphviz-0.8.4-py2.py3-none-any.whl\nRequirement not upgraded as not directly required: numpy<1.15.0,>=1.8.2 in /opt/conda/envs/DSX-Python35/lib/python3.5/site-packages (from mxnet)\nRequirement not upgraded as not directly required: chardet<3.1.0,>=3.0.2 in /opt/conda/envs/DSX-Python35/lib/python3.5/site-packages (from requests>=2.20.0->mxnet)\nRequirement not upgraded as not directly required: urllib3<1.25,>=1.21.1 in /opt/conda/envs/DSX-Python35/lib/python3.5/site-packages (from requests>=2.20.0->mxnet)\nRequirement not upgraded as not directly required: idna<2.9,>=2.5 in /opt/conda/envs/DSX-Python35/lib/python3.5/site-packages (from requests>=2.20.0->mxnet)\nRequirement not upgraded as not directly required: certifi>=2017.4.17 in /opt/conda/envs/DSX-Python35/lib/python3.5/site-packages (from requests>=2.20.0->mxnet)\nInstalling collected packages: requests, graphviz, mxnet\n  Found existing installation: requests 2.18.4\n    Uninstalling requests-2.18.4:\n      Successfully uninstalled requests-2.18.4\nSuccessfully installed graphviz-0.8.4 mxnet-1.4.0.post0 requests-2.21.0\n"
                }
            ], 
            "execution_count": 1
        }, 
        {
            "source": "\nfrom mxnet import nd\nfrom mxnet.gluon import nn", 
            "cell_type": "code", 
            "metadata": {}, 
            "outputs": [], 
            "execution_count": 4
        }, 
        {
            "source": "layer = nn.Dense(2)\nlayer", 
            "cell_type": "code", 
            "metadata": {}, 
            "outputs": [
                {
                    "output_type": "execute_result", 
                    "data": {
                        "text/plain": "Dense(None -> 2, linear)"
                    }, 
                    "execution_count": 5, 
                    "metadata": {}
                }
            ], 
            "execution_count": 5
        }, 
        {
            "source": "layer.initialize()", 
            "cell_type": "code", 
            "metadata": {}, 
            "outputs": [], 
            "execution_count": 6
        }, 
        {
            "source": "\nx = nd.random.uniform(-1,1,(3,4))\nlayer(x)", 
            "cell_type": "code", 
            "metadata": {}, 
            "outputs": [
                {
                    "output_type": "execute_result", 
                    "data": {
                        "text/plain": "\n[[-0.02524132 -0.00874885]\n [-0.06026538 -0.01308061]\n [ 0.02468396 -0.02181557]]\n<NDArray 3x2 @cpu(0)>"
                    }, 
                    "execution_count": 7, 
                    "metadata": {}
                }
            ], 
            "execution_count": 7
        }, 
        {
            "source": "layer.weight.data()", 
            "cell_type": "code", 
            "metadata": {}, 
            "outputs": [
                {
                    "output_type": "execute_result", 
                    "data": {
                        "text/plain": "\n[[-0.00873779 -0.02834515  0.05484822 -0.06206018]\n [ 0.06491279 -0.03182812 -0.01631819 -0.00312688]]\n<NDArray 2x4 @cpu(0)>"
                    }, 
                    "execution_count": 8, 
                    "metadata": {}
                }
            ], 
            "execution_count": 8
        }, 
        {
            "source": "net = nn.Sequential()\n# Add a sequence of layers.\nnet.add(# Similar to Dense, it is not necessary to specify the input channels\n        # by the argument `in_channels`, which will be  automatically inferred\n        # in the first forward pass. Also, we apply a relu activation on the\n        # output. In addition, we can use a tuple to specify a  non-square\n        # kernel size, such as `kernel_size=(2,4)`\n        nn.Conv2D(channels=6, kernel_size=5, activation='relu'),\n        # One can also use a tuple to specify non-symmetric pool and stride sizes\n        nn.MaxPool2D(pool_size=2, strides=2),\n        nn.Conv2D(channels=16, kernel_size=3, activation='relu'),\n        nn.MaxPool2D(pool_size=2, strides=2),\n        # The dense layer will automatically reshape the 4-D output of last\n        # max pooling layer into the 2-D shape: (x.shape[0], x.size/x.shape[0])\n        nn.Dense(120, activation=\"relu\"),\n        nn.Dense(84, activation=\"relu\"),\n        nn.Dense(10))\nnet", 
            "cell_type": "code", 
            "metadata": {}, 
            "outputs": [
                {
                    "output_type": "execute_result", 
                    "data": {
                        "text/plain": "Sequential(\n  (0): Conv2D(None -> 6, kernel_size=(5, 5), stride=(1, 1), Activation(relu))\n  (1): MaxPool2D(size=(2, 2), stride=(2, 2), padding=(0, 0), ceil_mode=False)\n  (2): Conv2D(None -> 16, kernel_size=(3, 3), stride=(1, 1), Activation(relu))\n  (3): MaxPool2D(size=(2, 2), stride=(2, 2), padding=(0, 0), ceil_mode=False)\n  (4): Dense(None -> 120, Activation(relu))\n  (5): Dense(None -> 84, Activation(relu))\n  (6): Dense(None -> 10, linear)\n)"
                    }, 
                    "execution_count": 9, 
                    "metadata": {}
                }
            ], 
            "execution_count": 9
        }, 
        {
            "source": "net.initialize()\n# Input shape is (batch_size, color_channels, height, width)\nx = nd.random.uniform(shape=(4,1,28,28))\ny = net(x)\ny.shape", 
            "cell_type": "code", 
            "metadata": {}, 
            "outputs": [
                {
                    "output_type": "execute_result", 
                    "data": {
                        "text/plain": "(4, 10)"
                    }, 
                    "execution_count": 10, 
                    "metadata": {}
                }
            ], 
            "execution_count": 10
        }, 
        {
            "source": "", 
            "cell_type": "code", 
            "metadata": {}, 
            "outputs": [], 
            "execution_count": null
        }
    ], 
    "metadata": {
        "kernelspec": {
            "display_name": "Python 3.5", 
            "name": "python3", 
            "language": "python"
        }, 
        "language_info": {
            "mimetype": "text/x-python", 
            "nbconvert_exporter": "python", 
            "version": "3.5.5", 
            "name": "python", 
            "file_extension": ".py", 
            "pygments_lexer": "ipython3", 
            "codemirror_mode": {
                "version": 3, 
                "name": "ipython"
            }
        }
    }, 
    "nbformat": 4
}